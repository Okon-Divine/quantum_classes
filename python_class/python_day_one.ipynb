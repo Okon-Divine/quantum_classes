{
 "cells": [
  {
   "cell_type": "markdown",
   "id": "30cb42f9",
   "metadata": {},
   "source": [
    "### Python for Data research curriculum"
   ]
  },
  {
   "cell_type": "raw",
   "id": "911712ec",
   "metadata": {},
   "source": [
    "Part one:\n",
    "    \n",
    "- Data types\n",
    "- variables\n",
    "- list and arrays\n",
    "- indexing and slicing\n",
    "- conditionals\n",
    "- strings and array methods\n",
    "- loops (Forloops and while loops)\n",
    "- functions\n",
    "- Dictionaries\n",
    "- classes and objects"
   ]
  },
  {
   "cell_type": "raw",
   "id": "8a5cc124",
   "metadata": {},
   "source": [
    "Part two:\n",
    "- Pandas and numpys\n",
    "- time, date and math libraries\n",
    "- visualization(seaborn and matplotlib)"
   ]
  },
  {
   "cell_type": "raw",
   "id": "5ee3150e",
   "metadata": {},
   "source": [
    "Part three (Python for data science):\n",
    "- Data loading\n",
    "- Data cleaning and data wrangling\n",
    "- Answering business intelligence questions with python\n",
    "- correlation analysis, univariate and bi-variate analysis\n",
    "- Feature engineering\n",
    "- introduction to predictive modelling (Linear and ploynomial regression, logistictic regression and Time series)\n",
    "- machine learning concepts (supervised and unsupervised learning)"
   ]
  },
  {
   "cell_type": "raw",
   "id": "56c7bf01",
   "metadata": {},
   "source": [
    "Part Four(Frame works and apis):\n",
    "- Python Flask\n",
    "- Rest and Fast Api\n",
    "- integrating Postgresql(sql automation) in python\n",
    "- extraction transformation and loading(ETL processes with python)"
   ]
  },
  {
   "cell_type": "raw",
   "id": "4c1a478f",
   "metadata": {},
   "source": [
    "Job descriptions after the learning\n",
    "\n",
    "- Data scientist, analyst, \n",
    "- back end engineer, \n",
    "- analytics engineer, \n",
    "- business intelligence engineer, \n",
    "- data engineer and machine leraning engineer"
   ]
  },
  {
   "cell_type": "markdown",
   "id": "4057cef1",
   "metadata": {},
   "source": [
    "### Lets code"
   ]
  },
  {
   "cell_type": "raw",
   "id": "aaa463c8",
   "metadata": {},
   "source": [
    "-strings, numeric data type(integers, floats), booleans(True/False)"
   ]
  },
  {
   "cell_type": "code",
   "execution_count": 4,
   "id": "a999482a",
   "metadata": {},
   "outputs": [
    {
     "name": "stdout",
     "output_type": "stream",
     "text": [
      "Hello class!\n"
     ]
    }
   ],
   "source": [
    "print(\"Hello class!\")"
   ]
  },
  {
   "cell_type": "code",
   "execution_count": 3,
   "id": "d32d9bff",
   "metadata": {},
   "outputs": [
    {
     "name": "stdout",
     "output_type": "stream",
     "text": [
      "<class 'str'>\n"
     ]
    }
   ],
   "source": [
    "print(type(\"hello class!\"))"
   ]
  },
  {
   "cell_type": "code",
   "execution_count": 5,
   "id": "5835e41e",
   "metadata": {},
   "outputs": [
    {
     "name": "stdout",
     "output_type": "stream",
     "text": [
      "my name is jake and i am 5 years old!\n"
     ]
    }
   ],
   "source": [
    "print(\"my name is jake and i am 5 years old!\")"
   ]
  },
  {
   "cell_type": "code",
   "execution_count": 35,
   "id": "91a39ba6",
   "metadata": {},
   "outputs": [
    {
     "name": "stdout",
     "output_type": "stream",
     "text": [
      "1051\n"
     ]
    }
   ],
   "source": [
    "print(\"10\" + \"51\")"
   ]
  },
  {
   "cell_type": "code",
   "execution_count": 10,
   "id": "bec28b53",
   "metadata": {},
   "outputs": [
    {
     "name": "stdout",
     "output_type": "stream",
     "text": [
      "13.9\n"
     ]
    }
   ],
   "source": [
    "print(10.9 + 3)"
   ]
  },
  {
   "cell_type": "code",
   "execution_count": 12,
   "id": "a3db46ed",
   "metadata": {},
   "outputs": [
    {
     "name": "stdout",
     "output_type": "stream",
     "text": [
      "True\n"
     ]
    }
   ],
   "source": [
    "print(5==5)"
   ]
  },
  {
   "cell_type": "code",
   "execution_count": 14,
   "id": "65720117",
   "metadata": {},
   "outputs": [
    {
     "name": "stdout",
     "output_type": "stream",
     "text": [
      "True\n"
     ]
    }
   ],
   "source": [
    "print(10==(2*5))"
   ]
  },
  {
   "cell_type": "code",
   "execution_count": 17,
   "id": "ca5afabc",
   "metadata": {},
   "outputs": [
    {
     "name": "stdout",
     "output_type": "stream",
     "text": [
      "<class 'str'>\n"
     ]
    }
   ],
   "source": [
    "print(type(\"true\"))"
   ]
  },
  {
   "cell_type": "code",
   "execution_count": 18,
   "id": "6eac7fbb",
   "metadata": {},
   "outputs": [
    {
     "name": "stdout",
     "output_type": "stream",
     "text": [
      "<class 'bool'>\n"
     ]
    }
   ],
   "source": [
    "print(type(True))"
   ]
  },
  {
   "cell_type": "code",
   "execution_count": 21,
   "id": "1c993789",
   "metadata": {},
   "outputs": [
    {
     "name": "stdout",
     "output_type": "stream",
     "text": [
      "<class 'float'>\n"
     ]
    }
   ],
   "source": [
    "print(type(10.01))"
   ]
  },
  {
   "cell_type": "code",
   "execution_count": 34,
   "id": "f4c7dae4",
   "metadata": {},
   "outputs": [
    {
     "name": "stdout",
     "output_type": "stream",
     "text": [
      "enter name: john\n",
      "enter age: 19\n",
      "My name is, john and i am 19 years old!\n"
     ]
    }
   ],
   "source": [
    "name = input(\"enter name: \")\n",
    "age = input(\"enter age: \")\n",
    "print(f\"My name is, {name} and i am {age} years old!\")"
   ]
  },
  {
   "cell_type": "code",
   "execution_count": 33,
   "id": "e4fd71ff",
   "metadata": {},
   "outputs": [
    {
     "name": "stdout",
     "output_type": "stream",
     "text": [
      "26.926\n"
     ]
    }
   ],
   "source": [
    "a = 10\n",
    "b = 25\n",
    "##pythagoras theorem\n",
    "c = ((a**2) + (b**2))**(1/2)\n",
    "print(round(c, 3))"
   ]
  },
  {
   "cell_type": "code",
   "execution_count": 25,
   "id": "2cb4e46c",
   "metadata": {},
   "outputs": [
    {
     "name": "stdout",
     "output_type": "stream",
     "text": [
      "1.5874010519681994\n"
     ]
    }
   ],
   "source": [
    "print(4**(1/3))"
   ]
  },
  {
   "cell_type": "code",
   "execution_count": 37,
   "id": "8acaa9ef",
   "metadata": {},
   "outputs": [
    {
     "name": "stdout",
     "output_type": "stream",
     "text": [
      "enter name: john\n",
      "enter year of birth: 1997\n",
      "my name is john and i am 26.0 years old\n"
     ]
    }
   ],
   "source": [
    "name = input(\"enter name: \")\n",
    "yb = float(input(\"enter year of birth: \"))\n",
    "print(f\"my name is {name} and i am {2023-yb} years old\")"
   ]
  },
  {
   "cell_type": "code",
   "execution_count": null,
   "id": "818e705a",
   "metadata": {},
   "outputs": [],
   "source": []
  }
 ],
 "metadata": {
  "kernelspec": {
   "display_name": "Python 3 (ipykernel)",
   "language": "python",
   "name": "python3"
  },
  "language_info": {
   "codemirror_mode": {
    "name": "ipython",
    "version": 3
   },
   "file_extension": ".py",
   "mimetype": "text/x-python",
   "name": "python",
   "nbconvert_exporter": "python",
   "pygments_lexer": "ipython3",
   "version": "3.9.7"
  }
 },
 "nbformat": 4,
 "nbformat_minor": 5
}
