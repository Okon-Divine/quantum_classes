{
 "cells": [
  {
   "cell_type": "markdown",
   "id": "30cb42f9",
   "metadata": {},
   "source": [
    "### Python for Data research curriculum"
   ]
  },
  {
   "cell_type": "raw",
   "id": "911712ec",
   "metadata": {},
   "source": [
    "Part one:\n",
    "    \n",
    "- Data types\n",
    "- variables\n",
    "- conditionals\n",
    "- list and arrays\n",
    "- indexing and slicing\n",
    "- strings and array methods\n",
    "- loops (Forloops and while loops)\n",
    "- functions\n",
    "- Dictionaries\n",
    "- classes and objects"
   ]
  },
  {
   "cell_type": "raw",
   "id": "8a5cc124",
   "metadata": {},
   "source": [
    "Part two:\n",
    "- Pandas and numpys\n",
    "- time, date and math libraries\n",
    "- visualization(seaborn and matplotlib)"
   ]
  },
  {
   "cell_type": "raw",
   "id": "5ee3150e",
   "metadata": {},
   "source": [
    "Part three (Python for data science):\n",
    "- Data loading\n",
    "- Data cleaning and data wrangling\n",
    "- Answering business intelligence questions with python\n",
    "- correlation analysis, univariate and bi-variate analysis\n",
    "- Feature engineering\n",
    "- introduction to predictive modelling (Linear and ploynomial regression, logistictic regression and Time series)\n",
    "- machine learning concepts (supervised and unsupervised learning)"
   ]
  },
  {
   "cell_type": "raw",
   "id": "56c7bf01",
   "metadata": {},
   "source": [
    "Part Four(Frame works and apis):\n",
    "- Python Flask\n",
    "- Rest and Fast Api\n",
    "- integrating Postgresql(sql automation) in python\n",
    "- extraction transformation and loading(ETL processes with python)"
   ]
  },
  {
   "cell_type": "raw",
   "id": "4c1a478f",
   "metadata": {},
   "source": [
    "Job descriptions after the learning\n",
    "\n",
    "- Data scientist, analyst, \n",
    "- back end engineer, \n",
    "- analytics engineer, \n",
    "- business intelligence engineer, \n",
    "- data engineer and machine leraning engineer"
   ]
  },
  {
   "cell_type": "markdown",
   "id": "4057cef1",
   "metadata": {},
   "source": [
    "### Lets code"
   ]
  },
  {
   "cell_type": "raw",
   "id": "aaa463c8",
   "metadata": {},
   "source": [
    "-strings, numeric data type(integers, floats), booleans(True/False)"
   ]
  },
  {
   "cell_type": "code",
   "execution_count": 4,
   "id": "a999482a",
   "metadata": {},
   "outputs": [
    {
     "name": "stdout",
     "output_type": "stream",
     "text": [
      "Hello class!\n"
     ]
    }
   ],
   "source": [
    "print(\"Hello class!\")"
   ]
  },
  {
   "cell_type": "code",
   "execution_count": 3,
   "id": "d32d9bff",
   "metadata": {},
   "outputs": [
    {
     "name": "stdout",
     "output_type": "stream",
     "text": [
      "<class 'str'>\n"
     ]
    }
   ],
   "source": [
    "print(type(\"hello class!\"))"
   ]
  },
  {
   "cell_type": "code",
   "execution_count": 5,
   "id": "5835e41e",
   "metadata": {},
   "outputs": [
    {
     "name": "stdout",
     "output_type": "stream",
     "text": [
      "my name is jake and i am 5 years old!\n"
     ]
    }
   ],
   "source": [
    "print(\"my name is jake and i am 5 years old!\")"
   ]
  },
  {
   "cell_type": "code",
   "execution_count": 35,
   "id": "91a39ba6",
   "metadata": {},
   "outputs": [
    {
     "name": "stdout",
     "output_type": "stream",
     "text": [
      "1051\n"
     ]
    }
   ],
   "source": [
    "print(\"10\" + \"51\")"
   ]
  },
  {
   "cell_type": "code",
   "execution_count": 10,
   "id": "bec28b53",
   "metadata": {},
   "outputs": [
    {
     "name": "stdout",
     "output_type": "stream",
     "text": [
      "13.9\n"
     ]
    }
   ],
   "source": [
    "print(10.9 + 3)"
   ]
  },
  {
   "cell_type": "code",
   "execution_count": 12,
   "id": "a3db46ed",
   "metadata": {},
   "outputs": [
    {
     "name": "stdout",
     "output_type": "stream",
     "text": [
      "True\n"
     ]
    }
   ],
   "source": [
    "print(5==5)"
   ]
  },
  {
   "cell_type": "code",
   "execution_count": 14,
   "id": "65720117",
   "metadata": {},
   "outputs": [
    {
     "name": "stdout",
     "output_type": "stream",
     "text": [
      "True\n"
     ]
    }
   ],
   "source": [
    "print(10==(2*5))"
   ]
  },
  {
   "cell_type": "code",
   "execution_count": 17,
   "id": "ca5afabc",
   "metadata": {},
   "outputs": [
    {
     "name": "stdout",
     "output_type": "stream",
     "text": [
      "<class 'str'>\n"
     ]
    }
   ],
   "source": [
    "print(type(\"true\"))"
   ]
  },
  {
   "cell_type": "code",
   "execution_count": 18,
   "id": "6eac7fbb",
   "metadata": {},
   "outputs": [
    {
     "name": "stdout",
     "output_type": "stream",
     "text": [
      "<class 'bool'>\n"
     ]
    }
   ],
   "source": [
    "print(type(True))"
   ]
  },
  {
   "cell_type": "code",
   "execution_count": 21,
   "id": "1c993789",
   "metadata": {},
   "outputs": [
    {
     "name": "stdout",
     "output_type": "stream",
     "text": [
      "<class 'float'>\n"
     ]
    }
   ],
   "source": [
    "print(type(10.01))"
   ]
  },
  {
   "cell_type": "code",
   "execution_count": 34,
   "id": "f4c7dae4",
   "metadata": {},
   "outputs": [
    {
     "name": "stdout",
     "output_type": "stream",
     "text": [
      "enter name: john\n",
      "enter age: 19\n",
      "My name is, john and i am 19 years old!\n"
     ]
    }
   ],
   "source": [
    "name = input(\"enter name: \")\n",
    "age = input(\"enter age: \")\n",
    "print(f\"My name is, {name} and i am {age} years old!\")"
   ]
  },
  {
   "cell_type": "code",
   "execution_count": 33,
   "id": "e4fd71ff",
   "metadata": {},
   "outputs": [
    {
     "name": "stdout",
     "output_type": "stream",
     "text": [
      "26.926\n"
     ]
    }
   ],
   "source": [
    "a = 10\n",
    "b = 25\n",
    "##pythagoras theorem\n",
    "c = ((a**2) + (b**2))**(1/2)\n",
    "print(round(c, 3))"
   ]
  },
  {
   "cell_type": "code",
   "execution_count": 25,
   "id": "2cb4e46c",
   "metadata": {},
   "outputs": [
    {
     "name": "stdout",
     "output_type": "stream",
     "text": [
      "1.5874010519681994\n"
     ]
    }
   ],
   "source": [
    "print(4**(1/3))"
   ]
  },
  {
   "cell_type": "code",
   "execution_count": 37,
   "id": "8acaa9ef",
   "metadata": {},
   "outputs": [
    {
     "name": "stdout",
     "output_type": "stream",
     "text": [
      "enter name: john\n",
      "enter year of birth: 1997\n",
      "my name is john and i am 26.0 years old\n"
     ]
    }
   ],
   "source": [
    "name = input(\"enter name: \")\n",
    "yb = float(input(\"enter year of birth: \"))\n",
    "print(f\"my name is {name} and i am {2023-yb} years old\")"
   ]
  },
  {
   "cell_type": "markdown",
   "id": "dc18c08a",
   "metadata": {},
   "source": [
    "### Conditionals"
   ]
  },
  {
   "cell_type": "code",
   "execution_count": 7,
   "id": "fbbc110a",
   "metadata": {},
   "outputs": [
    {
     "name": "stdout",
     "output_type": "stream",
     "text": [
      "enter tempearture value: 10\n",
      "temperature is moderate\n"
     ]
    }
   ],
   "source": [
    "temp = float(input(\"enter tempearture value: \"))\n",
    "\n",
    "if temp > 20:\n",
    "    print(\"tempertaure is high\")\n",
    "elif temp >=10 and temp <= 19:\n",
    "    print(\"temperature is moderate\")\n",
    "elif temp >=1 and temp <=9:\n",
    "    print(\"temperature is quite low\")\n",
    "elif temp <= 0:\n",
    "    print(\"extremeley deadly temperature\")\n",
    "else:\n",
    "    print(\"input not understood\")"
   ]
  },
  {
   "cell_type": "code",
   "execution_count": 9,
   "id": "32249916",
   "metadata": {},
   "outputs": [
    {
     "name": "stdout",
     "output_type": "stream",
     "text": [
      "enter age: 14\n",
      "enter sex: f\n",
      "a teenage female\n"
     ]
    }
   ],
   "source": [
    "age = int(input(\"enter age: \"))\n",
    "sex = input(\"enter sex: \").lower()\n",
    "\n",
    "if age >= 20:\n",
    "    if sex == \"f\":\n",
    "        print(\"an adult female\")\n",
    "    elif sex == \"m\":\n",
    "        print(\"an adult male\")\n",
    "        \n",
    "elif age >= 13 and age <= 19:\n",
    "    if sex == \"f\":\n",
    "        print(\"a teenage female\")\n",
    "    elif sex == \"m\":\n",
    "        print(\"a teenage male\")\n",
    "        \n",
    "elif age <= 12:\n",
    "    if sex == \"f\":\n",
    "        print(\"a child female\")\n",
    "    elif sex == \"m\":\n",
    "        print(\"a child male\")\n",
    "        \n",
    "else:\n",
    "    print(\"No input available\")"
   ]
  },
  {
   "cell_type": "markdown",
   "id": "4008010f",
   "metadata": {},
   "source": [
    "###### Temperature conversion program"
   ]
  },
  {
   "cell_type": "code",
   "execution_count": 23,
   "id": "f24b7144",
   "metadata": {},
   "outputs": [
    {
     "name": "stdout",
     "output_type": "stream",
     "text": [
      "enter temperature value here: 47\n",
      "enter unit->f/c: c\n",
      "the temperature value of 47.0 celcius is 116.6 fahrenheit\n"
     ]
    }
   ],
   "source": [
    "temp_value = float(input(\"enter temperature value here: \"))\n",
    "unit = input(\"enter unit->f/c: \").lower()\n",
    "\n",
    "if unit == \"f\":\n",
    "    temp = (temp_value - 32) * (5/9)\n",
    "    if temp <= 100:\n",
    "        kel = 273 + temp\n",
    "        print(f\"the temperature value of {temp_value} fahrenhiet is {round(kel, 3)} kelvin\")\n",
    "    else:\n",
    "        print(f\"the temperature value of {temp_value} fahrenhiet is {round(temp, 3)} celcuis\")\n",
    "        \n",
    "elif unit == \"c\":\n",
    "    temp = (temp_value * (9/5)) + 32\n",
    "    print(f\"the temperature value of {temp_value} celcius is {round(temp, 3)} fahrenheit\")\n",
    "else:\n",
    "    print(\"input not understood\")"
   ]
  },
  {
   "cell_type": "code",
   "execution_count": null,
   "id": "0b3898fc",
   "metadata": {},
   "outputs": [],
   "source": [
    "###BMI --> BODY MASS INDEX\n",
    "###range of value that constitutes high, low and average"
   ]
  },
  {
   "cell_type": "code",
   "execution_count": null,
   "id": "2c6ddfa4",
   "metadata": {},
   "outputs": [],
   "source": [
    "###bmi ==> weight/height**2"
   ]
  },
  {
   "cell_type": "code",
   "execution_count": 8,
   "id": "eb4e069d",
   "metadata": {},
   "outputs": [
    {
     "name": "stdout",
     "output_type": "stream",
     "text": [
      "enter weight value(N): 789\n",
      "enter height value(m): 15\n",
      "enter unit for weight: p\n",
      "enter unit for height: ft\n",
      "Unit not defined in the program!\n"
     ]
    }
   ],
   "source": [
    "weight = float(input(\"enter weight value: \"))\n",
    "height = float(input(\"enter height value: \"))\n",
    "unit_weight = input(\"enter unit for weight: \").lower()\n",
    "unit_height = input(\"enter unit for height: \").lower()\n",
    "bmi = (weight/10)/(height**2)\n",
    "\n",
    "if unit_weight == \"n\" and unit_height == \"m\":\n",
    "    if bmi >=25:\n",
    "        print(f\"my bmi is {bmi} and it is high!\")\n",
    "    elif bmi >=18 and bmi<= 24.9:\n",
    "        print(f\"my bmis is {bmi} and itis average\")\n",
    "    else:\n",
    "        print(f\"this is my bmi value = {bmi} and it is low\")\n",
    "\n",
    "\n",
    "else:\n",
    "    print(\"Unit not defined in the program!\")\n",
    "        \n",
    "# if unit_weight == \"p\" and unit_height == \"ft\":\n",
    "#     if bmi >=29:\n",
    "#         print(\"your bmi is high\")\n",
    "#     elif bmi >=15 and bmi<= 28:\n",
    "#         print(\"your bmi is average\")\n",
    "#     else:\n",
    "#         print(f\"this is my bmi value = {bmi} and it is low\")"
   ]
  },
  {
   "cell_type": "code",
   "execution_count": 24,
   "id": "c7d6d0d7",
   "metadata": {},
   "outputs": [
    {
     "name": "stdout",
     "output_type": "stream",
     "text": [
      "enter weight value (kg): 67\n",
      "enter height value(m): 56\n",
      "enter unit for weight: p\n",
      "enter unit for height: ft\n",
      "0.004375809928152242\n"
     ]
    }
   ],
   "source": [
    "weight = float(input(\"enter weight value (kg): \"))\n",
    "height = float(input(\"enter height value(m): \"))\n",
    "unit_weight = input(\"enter unit for weight: \").lower()\n",
    "unit_height = input(\"enter unit for height: \").lower()\n",
    "##bmi = (weight/10)/(height**2)\n",
    "\n",
    "if unit_weight == \"n\" and unit_height == \"m\":\n",
    "    bmi = (weight*10)/(height**2)\n",
    "    if bmi >=25:\n",
    "        print(f\"my bmi is {bmi} and it is high!\")\n",
    "    elif bmi >=18 and bmi<= 24.9:\n",
    "        print(f\"my bmis is {bmi} and itis average\")\n",
    "    else:\n",
    "        print(f\"this is my bmi value = {bmi} and it is low\")\n",
    "    \n",
    "##Convert     \n",
    "elif unit_weight == \"p\" and unit_height == \"ft\":\n",
    "    bmi = (weight * 2.2046) / ((height*3.28084)**2)\n",
    "    print(f\"{bmi}\")\n",
    "    \n",
    "else:\n",
    "    print(\"Unit not defined in the program!\")"
   ]
  },
  {
   "cell_type": "markdown",
   "id": "963a4086",
   "metadata": {},
   "source": [
    "### List and Arrays"
   ]
  },
  {
   "cell_type": "code",
   "execution_count": 43,
   "id": "562ba90d",
   "metadata": {},
   "outputs": [],
   "source": [
    "#x = True\n",
    "b = [\"ada\", \"tobi\", 25, True, False, \"james\", \"pedro\"]"
   ]
  },
  {
   "cell_type": "code",
   "execution_count": 49,
   "id": "076ec94e",
   "metadata": {},
   "outputs": [
    {
     "data": {
      "text/plain": [
       "5"
      ]
     },
     "execution_count": 49,
     "metadata": {},
     "output_type": "execute_result"
    }
   ],
   "source": [
    "len(b[5])"
   ]
  },
  {
   "cell_type": "code",
   "execution_count": 61,
   "id": "76c659c8",
   "metadata": {},
   "outputs": [
    {
     "data": {
      "text/plain": [
       "[25, True, False, 'james', 'pedro']"
      ]
     },
     "execution_count": 61,
     "metadata": {},
     "output_type": "execute_result"
    }
   ],
   "source": [
    "b[2:]"
   ]
  },
  {
   "cell_type": "code",
   "execution_count": 42,
   "id": "7ab5aa91",
   "metadata": {},
   "outputs": [],
   "source": [
    "##print(len(x))"
   ]
  },
  {
   "cell_type": "code",
   "execution_count": 29,
   "id": "ab33d9c7",
   "metadata": {},
   "outputs": [
    {
     "name": "stdout",
     "output_type": "stream",
     "text": [
      "<class 'list'>\n"
     ]
    }
   ],
   "source": [
    "print(type(b))"
   ]
  },
  {
   "cell_type": "code",
   "execution_count": 35,
   "id": "9943abb6",
   "metadata": {},
   "outputs": [
    {
     "data": {
      "text/plain": [
       "5"
      ]
     },
     "execution_count": 35,
     "metadata": {},
     "output_type": "execute_result"
    }
   ],
   "source": [
    "index_values = b.index(\"james\")\n",
    "index_values"
   ]
  },
  {
   "cell_type": "code",
   "execution_count": 64,
   "id": "c0a1eb81",
   "metadata": {},
   "outputs": [
    {
     "name": "stdout",
     "output_type": "stream",
     "text": [
      "['ada', 'tobi', 25, True, False, 'james', 'pedro']\n"
     ]
    }
   ],
   "source": [
    "print(b)"
   ]
  },
  {
   "cell_type": "code",
   "execution_count": 63,
   "id": "e064ac17",
   "metadata": {},
   "outputs": [
    {
     "name": "stdout",
     "output_type": "stream",
     "text": [
      "[True, False, 'james', 'pedro']\n"
     ]
    }
   ],
   "source": [
    "# pos = b.index(25)\n",
    "# after = b[pos+1:]\n",
    "# print(after)"
   ]
  },
  {
   "cell_type": "code",
   "execution_count": 59,
   "id": "58f579d0",
   "metadata": {},
   "outputs": [
    {
     "name": "stdout",
     "output_type": "stream",
     "text": [
      "2\n"
     ]
    }
   ],
   "source": [
    "pos = b.index(25)\n",
    "print(pos)\n",
    "# after = b[pos+1:]\n",
    "# print(after)"
   ]
  },
  {
   "cell_type": "code",
   "execution_count": 62,
   "id": "0a5aef27",
   "metadata": {},
   "outputs": [
    {
     "name": "stdout",
     "output_type": "stream",
     "text": [
      "[True, False, 'james', 'pedro']\n"
     ]
    }
   ],
   "source": [
    "after = b[pos+1:]\n",
    "print(after)"
   ]
  },
  {
   "cell_type": "code",
   "execution_count": null,
   "id": "beed62bc",
   "metadata": {},
   "outputs": [],
   "source": [
    "##before"
   ]
  },
  {
   "cell_type": "code",
   "execution_count": 57,
   "id": "cc4033b8",
   "metadata": {},
   "outputs": [
    {
     "name": "stdout",
     "output_type": "stream",
     "text": [
      "['ada', 'tobi']\n"
     ]
    }
   ],
   "source": [
    "before =  b[:pos]\n",
    "print(before)"
   ]
  },
  {
   "cell_type": "raw",
   "id": "02e9f364",
   "metadata": {},
   "source": [
    "####Class work\n",
    "\n",
    "1. if the age to to vote is from 18 and above\n",
    "2. and the condition to vote requuires a PVC\n",
    "\n",
    "Write a program that asks users for their and if they have pvc\n",
    "if they do, grant them access to vote\n",
    "if they dont do not grant them access to vote"
   ]
  },
  {
   "cell_type": "code",
   "execution_count": 1,
   "id": "20b5910b",
   "metadata": {},
   "outputs": [
    {
     "name": "stdout",
     "output_type": "stream",
     "text": [
      "enter age: 16\n",
      "enter true or false: True\n",
      "access denied to vote!!!\n"
     ]
    }
   ],
   "source": [
    "age = int(input(\"enter age: \"))\n",
    "pvc = bool(input(\"enter true or false: \"))\n",
    "voter = input(\"where is voter from?: \")\n",
    "\n",
    "if age > 17 and pvc == True:\n",
    "    if voter == \"south-south\" or voter == \"east\":\n",
    "        print(\"vote obi\")\n",
    "    elif voter == \"north\" or voter == \"south-west\":\n",
    "        print(\"vote asiwaju!!!\")\n",
    "    else:\n",
    "        print(\"vote atiku\")\n",
    "    \n",
    "elif age >18 and pvc == False:\n",
    "    print(\"access denied to vote\")\n",
    "else:\n",
    "    print(\"access denied to vote!!!\")"
   ]
  },
  {
   "cell_type": "raw",
   "id": "f20eb3a1",
   "metadata": {},
   "source": [
    "if the person is qualified to vote\n",
    "- if the preson is from south south, East they should Obi\n",
    "- if the person is from north, south west vote asiwaju\n",
    "- vote atiku"
   ]
  },
  {
   "cell_type": "code",
   "execution_count": null,
   "id": "a63bcea6",
   "metadata": {},
   "outputs": [],
   "source": []
  }
 ],
 "metadata": {
  "kernelspec": {
   "display_name": "Python 3 (ipykernel)",
   "language": "python",
   "name": "python3"
  },
  "language_info": {
   "codemirror_mode": {
    "name": "ipython",
    "version": 3
   },
   "file_extension": ".py",
   "mimetype": "text/x-python",
   "name": "python",
   "nbconvert_exporter": "python",
   "pygments_lexer": "ipython3",
   "version": "3.9.7"
  }
 },
 "nbformat": 4,
 "nbformat_minor": 5
}
